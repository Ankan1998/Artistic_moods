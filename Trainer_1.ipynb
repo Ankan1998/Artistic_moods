{
  "nbformat": 4,
  "nbformat_minor": 0,
  "metadata": {
    "colab": {
      "name": "Trainer-1.ipynb",
      "provenance": [],
      "collapsed_sections": [],
      "toc_visible": true,
      "authorship_tag": "ABX9TyOvqsHk5TF7V40R5FGgn25N"
    },
    "kernelspec": {
      "name": "python3",
      "display_name": "Python 3"
    },
    "accelerator": "GPU"
  },
  "cells": [
    {
      "cell_type": "markdown",
      "metadata": {
        "id": "isA910QjS6gb",
        "colab_type": "text"
      },
      "source": [
        "# Neural Style Transfer\n",
        "#### Neural Style Transfer is a way to combine content and artistic style of images in one image. One of the best possible implementation is cartoonize of potrait."
      ]
    },
    {
      "cell_type": "code",
      "metadata": {
        "id": "hgNj81uMRTrO",
        "colab_type": "code",
        "colab": {}
      },
      "source": [
        "# Referred from Research Paper Controlling perceptual factors in neural style transfer - ‎Gatys \n",
        "# Andrew Ng's neural style transfer\n",
        "\n",
        "import numpy as np\n",
        "import tensorflow as tf\n",
        "from tensorflow import keras\n"
      ],
      "execution_count": null,
      "outputs": []
    },
    {
      "cell_type": "code",
      "metadata": {
        "id": "Gy77mXaS_mC_",
        "colab_type": "code",
        "colab": {}
      },
      "source": [
        "# Dimensions of the generated picture.\n",
        "\n",
        "width, height = keras.preprocessing.image.load_img(content_image_path).size\n",
        "img_nrows = 400\n",
        "img_ncols = int(width * img_nrows / height)\n"
      ],
      "execution_count": null,
      "outputs": []
    },
    {
      "cell_type": "code",
      "metadata": {
        "id": "i8VKnKAy_JaH",
        "colab_type": "code",
        "colab": {}
      },
      "source": [
        "def preprocess_image(image_path):\n",
        "    # Util function to open, resize and format pictures into appropriate tensors\n",
        "    img = keras.preprocessing.image.load_img(\n",
        "        image_path, target_size=(img_nrows, img_ncols)\n",
        "    )\n",
        "    img = keras.preprocessing.image.img_to_array(img)\n",
        "    img = np.expand_dims(img, axis=0)\n",
        "    img = vgg19.preprocess_input(img)\n",
        "    return tf.convert_to_tensor(img)"
      ],
      "execution_count": null,
      "outputs": []
    },
    {
      "cell_type": "markdown",
      "metadata": {
        "id": "ciFDX5m-3Cr6",
        "colab_type": "text"
      },
      "source": [
        "## **Model**"
      ]
    },
    {
      "cell_type": "markdown",
      "metadata": {
        "id": "a0Y39pJThXbf",
        "colab_type": "text"
      },
      "source": [
        "### **2. Using VGG19 to get the activation of hidden layer**"
      ]
    },
    {
      "cell_type": "code",
      "metadata": {
        "id": "Z5s8CnCPTdcO",
        "colab_type": "code",
        "colab": {}
      },
      "source": [
        "from tensorflow.keras.applications import vgg19\n",
        "# VGG19 model loaded \n",
        "# weights=\"imagenet\" loads pre-trained ImageNet weights\n",
        "# include_top=False to not include the 3 fully-connected layers at the top of the network\n",
        "model = vgg19.VGG19(weights=\"imagenet\", include_top=False)\n",
        "#use model.summary() to check the layers in vgg19\n",
        "#It would helpful to extract desired activation layer\n",
        "\n",
        "#layer_name_output_dict contains key value pair of key being layer_name and its output\n",
        "layer_name_output_dict = dict([(layer.name, layer.output) for layer in model.layers])\n",
        "\n",
        "# Set up a model that returns the activation values for every layer in VGG19 (as a dict).\n",
        "#This vgg19_features_engine will take a input tensor and outputs \n",
        "vgg19_features_engine = keras.Model(inputs=model.inputs, outputs=layer_name_output_dict)"
      ],
      "execution_count": null,
      "outputs": []
    },
    {
      "cell_type": "code",
      "metadata": {
        "id": "B6IHkuWFRX8e",
        "colab_type": "code",
        "colab": {}
      },
      "source": [
        "vgg19_features_engine.save('/tmp/mvgg19.h5')"
      ],
      "execution_count": null,
      "outputs": []
    },
    {
      "cell_type": "code",
      "metadata": {
        "id": "9aDdBwby9xmO",
        "colab_type": "code",
        "colab": {
          "base_uri": "https://localhost:8080/",
          "height": 34
        },
        "outputId": "426508cb-c71d-43c7-ecdd-5832df63626b"
      },
      "source": [
        "from tensorflow.keras.models import load_model\n",
        "xvgg19=load_model('/tmp/mvgg19.h5')"
      ],
      "execution_count": null,
      "outputs": [
        {
          "output_type": "stream",
          "text": [
            "WARNING:tensorflow:No training configuration found in the save file, so the model was *not* compiled. Compile it manually.\n"
          ],
          "name": "stdout"
        }
      ]
    },
    {
      "cell_type": "markdown",
      "metadata": {
        "id": "wLXzEzHvfevn",
        "colab_type": "text"
      },
      "source": [
        "##**Cost_Function**\n",
        "#### Total cost function = alpha x content_cost_function + beta x style_cost_function\n",
        "\n",
        "Content Cost Function:\n"
      ]
    },
    {
      "cell_type": "code",
      "metadata": {
        "id": "1bTwbCKaodP5",
        "colab_type": "code",
        "colab": {}
      },
      "source": [
        "# CALCULATE TOTAL LOSS= alpha x CONTENT_COST_FUNCTION + beta x STYLE_COST_FUNCTION\n",
        "# Layer for the content loss\n",
        "# Content_loss_layer is chosen from higher layer to get the context of image\n",
        "content_layer_name = \"block5_conv3\"\n",
        "\n",
        "# Layers for the style loss.\n",
        "# Style_loss_layer is chosen from every layer get the texture of the style image\n",
        "style_layer_names = [\n",
        "    \"block1_conv1\",\n",
        "    \"block2_conv1\",\n",
        "    \"block3_conv1\",\n",
        "    \"block4_conv1\",\n",
        "    \"block5_conv1\",\n",
        "]\n",
        "\n",
        "# Weights of the different loss components\n",
        "total_loss_coeff = 1e-6\n",
        "beta = 1e-6\n",
        "alpha = 2.5e-8\n",
        "\n",
        "def total_loss(generated_combined_image, content_image, style_art_image):\n",
        "    #we take tensors\n",
        "    extracted_tensors = tf.concat([content_image, style_art_image, generated_combined_image], axis=0)\n",
        "    \n",
        "    features = vgg19_features_engine(extracted_tensors)\n",
        "    \n",
        "    # Loss initialized with zeros\n",
        "    loss = tf.zeros(shape=())\n",
        "    # As in extracted_tensors 0=content_image;1=style_art_image;2=generated_combined_image\n",
        "    # Add content loss\n",
        "    layer_features = features[content_layer_name]\n",
        "    # activation of layer \"block5_conv3\" of content_image \n",
        "    content_image_features = layer_features[0, :, :, :]\n",
        "    # activation of layer \"block5_conv3\" of generated_combined_image\n",
        "    combination_features = layer_features[2, :, :, :]\n",
        "    # Calculate element-wise sum of squared difference multiplied with alpha and added to loss\n",
        "    loss = loss + alpha * tf.reduce_sum(tf.square(combination_features - content_image_features))\n",
        "    \n",
        "    # style is defined as correlation between activation across different channel\n",
        "    # style_matrix is 2D whereas the image is 3D. \n",
        "    # The first line permute transpose to bring channel dimension in row dimension ==> (2,0,1)\n",
        "    # Flattened it along spatial dimension i.e we multiply its height and width together that reshape does\n",
        "    # style_matrix is also called gram-matrix, it is a autocorrelation i.e X.X'(transpose)/N\n",
        "    # Finally it takes X(c,hw)==> X(c,c)\n",
        "    def style_matrix(feature_matrix_X):\n",
        "      feature_matrix_X = tf.transpose(feature_matrix_X, (2, 0, 1))\n",
        "      features = tf.reshape(feature_matrix_X, (tf.shape(feature_matrix_X)[0], -1))\n",
        "      return tf.matmul(features, tf.transpose(features))\n",
        "       \n",
        "\n",
        "    # Add style loss\n",
        "    #\n",
        "    for layer_name in style_layer_names:\n",
        "        layer_features = features[layer_name]\n",
        "        #activation of layer from block_1 to block_5 of style image\n",
        "        style_art_features = layer_features[1, :, :, :]\n",
        "        # activation of layer of generated_combined_image\n",
        "        combination_features = layer_features[2, :, :, :]\n",
        "        # To get correlation between channels of style image and combination image\n",
        "        S = style_matrix(style_art_features)\n",
        "        G = style_matrix(combination_features)\n",
        "        channels = 3\n",
        "        size = img_nrows * img_ncols\n",
        "        # Calculate element-wise sum of squared difference multiplied with beta and added to loss\n",
        "        # And dividing by a constant\n",
        "        style_loss = tf.reduce_sum(tf.square(S - G)) / (4.0 * (channels ** 2) * (size ** 2))\n",
        "        \n",
        "        loss =loss+ (beta / len(style_layer_names)) * style_loss\n",
        "\n",
        "    \n",
        "    a = tf.square(generated_combined_image[:, : img_nrows - 1, : img_ncols - 1, :] - generated_combined_image[:, 1:, : img_ncols - 1, :])\n",
        "    b = tf.square(generated_combined_image[:, : img_nrows - 1, : img_ncols - 1, :] - generated_combined_image[:, : img_nrows - 1, 1:, :])  \n",
        "    \n",
        "    # Adding total loss\n",
        "    loss =loss+ total_loss_coeff * tf.reduce_sum(tf.pow(a + b, 1.25))\n",
        "    return loss\n",
        "\n"
      ],
      "execution_count": null,
      "outputs": []
    },
    {
      "cell_type": "markdown",
      "metadata": {
        "id": "__GDSddd3Y9p",
        "colab_type": "text"
      },
      "source": [
        "## **Training loop & De-process Image**"
      ]
    },
    {
      "cell_type": "code",
      "metadata": {
        "id": "pClvSLF93YS6",
        "colab_type": "code",
        "colab": {
          "base_uri": "https://localhost:8080/",
          "height": 229
        },
        "outputId": "95e9cd91-41a6-41a6-bae1-8fa935d3a366"
      },
      "source": [
        "optimizer = keras.optimizers.SGD(\n",
        "    keras.optimizers.schedules.ExponentialDecay(\n",
        "        initial_learning_rate=100.0, decay_steps=100, decay_rate=0.96\n",
        "    )\n",
        ")\n",
        "# Source of three type of image\n",
        "content_image = preprocess_image(content_image_path)\n",
        "style_art_image = preprocess_image(style_art_image_path)\n",
        "generated_combined_image = tf.Variable(preprocess_image(content_image_path))\n",
        "\n",
        "\n",
        "\n",
        "iterations = 1000\n",
        "for i in range(1, iterations + 1):\n",
        "    loss, gradient = total_loss_and_gradient(generated_combined_image, content_image, style_art_image)\n",
        "    optimizer.apply_gradients([(gradient, generated_combined_image)])\n",
        "    if i % 100 == 0:\n",
        "        print(\"Iteration %d: loss=%.2f\" % (i, loss))\n",
        "        #deprocess image\n",
        "        numpy_img_matrix=generated_combined_image.numpy()\n",
        "        numpy_img_matrix = numpy_img_matrix.reshape((img_nrows, img_ncols, 3))\n",
        "        # Remove zero-center by mean pixel\n",
        "        # Reversing effect of Keras pre-processing\n",
        "        numpy_img_matrix[:, :, 0] += 103.939\n",
        "        numpy_img_matrix[:, :, 1] += 116.779\n",
        "        numpy_img_matrix[:, :, 2] += 123.68\n",
        "        numpy_img_matrix = numpy_img_matrix[:, :, ::-1]\n",
        "        img = np.clip(numpy_img_matrix, 0, 255).astype(\"uint8\")\n",
        "        #img = deprocess_image(generated_combined_image.numpy())\n",
        "        fname = result_prefix + \"_at_iteration_%d.png\" % i\n",
        "        keras.preprocessing.image.save_img(fname, img)\n"
      ],
      "execution_count": null,
      "outputs": [
        {
          "output_type": "error",
          "ename": "NameError",
          "evalue": "ignored",
          "traceback": [
            "\u001b[0;31m---------------------------------------------------------------------------\u001b[0m",
            "\u001b[0;31mNameError\u001b[0m                                 Traceback (most recent call last)",
            "\u001b[0;32m<ipython-input-6-deeb77f740cc>\u001b[0m in \u001b[0;36m<module>\u001b[0;34m()\u001b[0m\n\u001b[1;32m      5\u001b[0m )\n\u001b[1;32m      6\u001b[0m \u001b[0;34m\u001b[0m\u001b[0m\n\u001b[0;32m----> 7\u001b[0;31m \u001b[0mbase_image\u001b[0m \u001b[0;34m=\u001b[0m \u001b[0mpreprocess_image\u001b[0m\u001b[0;34m(\u001b[0m\u001b[0mbase_image_path\u001b[0m\u001b[0;34m)\u001b[0m\u001b[0;34m\u001b[0m\u001b[0;34m\u001b[0m\u001b[0m\n\u001b[0m\u001b[1;32m      8\u001b[0m \u001b[0mstyle_reference_image\u001b[0m \u001b[0;34m=\u001b[0m \u001b[0mpreprocess_image\u001b[0m\u001b[0;34m(\u001b[0m\u001b[0mstyle_reference_image_path\u001b[0m\u001b[0;34m)\u001b[0m\u001b[0;34m\u001b[0m\u001b[0;34m\u001b[0m\u001b[0m\n\u001b[1;32m      9\u001b[0m \u001b[0mcombination_image\u001b[0m \u001b[0;34m=\u001b[0m \u001b[0mtf\u001b[0m\u001b[0;34m.\u001b[0m\u001b[0mVariable\u001b[0m\u001b[0;34m(\u001b[0m\u001b[0mpreprocess_image\u001b[0m\u001b[0;34m(\u001b[0m\u001b[0mbase_image_path\u001b[0m\u001b[0;34m)\u001b[0m\u001b[0;34m)\u001b[0m\u001b[0;34m\u001b[0m\u001b[0;34m\u001b[0m\u001b[0m\n",
            "\u001b[0;31mNameError\u001b[0m: name 'base_image_path' is not defined"
          ]
        }
      ]
    },
    {
      "cell_type": "code",
      "metadata": {
        "id": "rELu7-Dc_3OZ",
        "colab_type": "code",
        "colab": {}
      },
      "source": [
        "# Custom loss function with custom differentiation in tensorflow to get gradient \n",
        "\n",
        "def total_loss_and_gradient(generated_combined_image, content_image, style_art_image):\n",
        "    with tf.GradientTape() as t:\n",
        "        loss = total_loss(generated_combined_image, content_image, style_art_image)\n",
        "    grads = t.gradient(loss, generated_combined_image)\n",
        "    return loss, grads\n"
      ],
      "execution_count": null,
      "outputs": []
    },
    {
      "cell_type": "markdown",
      "metadata": {
        "id": "UXcpSTXo_JzH",
        "colab_type": "text"
      },
      "source": [
        "## **1. Image upload & pre-processing**"
      ]
    },
    {
      "cell_type": "code",
      "metadata": {
        "id": "LmCpQzEclu8z",
        "colab_type": "code",
        "colab": {}
      },
      "source": [
        "# Source of three type of image\n",
        "content_image = preprocess_image(content_image_path)\n",
        "style_art_image = preprocess_image(style_art_image_path)\n",
        "generated_combined_image = tf.Variable(preprocess_image(content_image_path))\n",
        "#######"
      ],
      "execution_count": null,
      "outputs": []
    }
  ]
}